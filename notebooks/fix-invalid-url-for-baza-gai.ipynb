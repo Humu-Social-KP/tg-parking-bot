{
 "cells": [
  {
   "cell_type": "markdown",
   "id": "8b6d79f9-b7c0-474d-8525-2be3d5b11c5f",
   "metadata": {},
   "source": [
    "https://stackoverflow.com/questions/1695183/how-can-i-percent-encode-url-parameters-in-python\n",
    "\n",
    "\n",
    "https://stackoverflow.com/questions/1793261/how-to-join-components-of-a-path-when-you-are-constructing-a-url-in-python"
   ]
  },
  {
   "cell_type": "code",
   "execution_count": 11,
   "id": "f6f2153a-6e7c-448a-acc4-588d25b03793",
   "metadata": {},
   "outputs": [],
   "source": [
    "import posixpath\n",
    "import os\n",
    "import urllib.parse as url_parse"
   ]
  },
  {
   "cell_type": "code",
   "execution_count": 3,
   "id": "1b12475b-cdd3-4195-a1a9-ac1571a2f53e",
   "metadata": {},
   "outputs": [],
   "source": [
    "valid_url = \"https://baza-gai.com.ua/catalog-images/skoda/fabia/I%20%D0%A0%D0%B5%D1%81%D1%82%D0%B0%D0%B9%D0%BB%D0%B8%D0%BD%D0%B3/image.jpg\"\n",
    "invalid_url = \"https://baza-gai.com.ua/catalog-images/skoda/fabia/I Рестайлинг/image.jpg\""
   ]
  },
  {
   "cell_type": "code",
   "execution_count": 15,
   "id": "d1f5f5c1-1bd4-419b-8e05-f2dbcf01c2e4",
   "metadata": {},
   "outputs": [],
   "source": [
    "def fix_baza_gai_image_url(image_url: str):\n",
    "    url_base = \"https://baza-gai.com.ua\"\n",
    "    parsed_url = url_parse.urlsplit(image_url)\n",
    "    url_path = url_parse.quote(parsed_url.path)\n",
    "    return url_parse.urljoin(url_base, url_path)"
   ]
  },
  {
   "cell_type": "code",
   "execution_count": 8,
   "id": "30c1969e-dd22-4f34-bb78-e149f6c781ec",
   "metadata": {},
   "outputs": [],
   "source": [
    "def test_is_baza_gai_image_url_valid(image_url: str):\n",
    "    fixed_image_url = fix_baza_gai_image_url(image_url)\n",
    "    \n",
    "    assert fixed_image_url == valid_url, \"URL invalid format\""
   ]
  },
  {
   "cell_type": "code",
   "execution_count": 4,
   "id": "abafd62d-0b27-4196-b31e-184272b77a30",
   "metadata": {},
   "outputs": [
    {
     "data": {
      "text/plain": [
       "'https%3A//baza-gai.com.ua/catalog-images/skoda/fabia/I%20%D0%A0%D0%B5%D1%81%D1%82%D0%B0%D0%B9%D0%BB%D0%B8%D0%BD%D0%B3/image.jpg'"
      ]
     },
     "execution_count": 4,
     "metadata": {},
     "output_type": "execute_result"
    }
   ],
   "source": [
    "url_parse.quote(invalid_url)"
   ]
  },
  {
   "cell_type": "code",
   "execution_count": 9,
   "id": "b8471294-6653-4688-9028-abbd5f98082d",
   "metadata": {},
   "outputs": [
    {
     "data": {
      "text/plain": [
       "SplitResult(scheme='https', netloc='baza-gai.com.ua', path='/catalog-images/skoda/fabia/I Рестайлинг/image.jpg', query='', fragment='')"
      ]
     },
     "execution_count": 9,
     "metadata": {},
     "output_type": "execute_result"
    }
   ],
   "source": [
    "url_parse.urlsplit(invalid_url)"
   ]
  },
  {
   "cell_type": "code",
   "execution_count": 10,
   "id": "7a8f5477-26b9-4fa3-b52a-a0057b359702",
   "metadata": {},
   "outputs": [],
   "source": [
    "parsed_url = url_parse.urlsplit(invalid_url)"
   ]
  },
  {
   "cell_type": "code",
   "execution_count": 17,
   "id": "2f0a24af-4a5c-4e72-b4e2-2c2939cc241d",
   "metadata": {},
   "outputs": [
    {
     "data": {
      "text/plain": [
       "'https://baza-gai.com.ua/catalog-images/skoda/fabia/I%20%D0%A0%D0%B5%D1%81%D1%82%D0%B0%D0%B9%D0%BB%D0%B8%D0%BD%D0%B3/image.jpg'"
      ]
     },
     "execution_count": 17,
     "metadata": {},
     "output_type": "execute_result"
    }
   ],
   "source": [
    "fix_baza_gai_image_url(invalid_url)"
   ]
  },
  {
   "cell_type": "code",
   "execution_count": 16,
   "id": "910c46b1-c1ad-4714-b6d8-82697ba0beae",
   "metadata": {},
   "outputs": [],
   "source": [
    "test_is_baza_gai_image_url_valid(invalid_url)"
   ]
  },
  {
   "cell_type": "code",
   "execution_count": null,
   "id": "67ff20cb-e42e-4c0e-826a-1422b9495190",
   "metadata": {},
   "outputs": [],
   "source": []
  }
 ],
 "metadata": {
  "kernelspec": {
   "display_name": "Python 3 (ipykernel)",
   "language": "python",
   "name": "python3"
  },
  "language_info": {
   "codemirror_mode": {
    "name": "ipython",
    "version": 3
   },
   "file_extension": ".py",
   "mimetype": "text/x-python",
   "name": "python",
   "nbconvert_exporter": "python",
   "pygments_lexer": "ipython3",
   "version": "3.9.7"
  }
 },
 "nbformat": 4,
 "nbformat_minor": 5
}
